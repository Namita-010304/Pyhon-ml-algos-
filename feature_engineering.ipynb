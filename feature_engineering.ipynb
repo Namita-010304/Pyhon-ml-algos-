{
 "cells": [
  {
   "cell_type": "code",
   "execution_count": null,
   "id": "8fd15695",
   "metadata": {},
   "outputs": [],
   "source": [
    "df['sepal_area'] = df['sepal_length'] * df['sepal_width']\n",
    "df['petal_area'] = df['petal_length'] * df['petal_width']"
   ]
  },
  {
   "cell_type": "code",
   "execution_count": null,
   "id": "6f187974",
   "metadata": {},
   "outputs": [],
   "source": []
  }
 ],
 "metadata": {
  "language_info": {
   "name": "python"
  }
 },
 "nbformat": 4,
 "nbformat_minor": 5
}
