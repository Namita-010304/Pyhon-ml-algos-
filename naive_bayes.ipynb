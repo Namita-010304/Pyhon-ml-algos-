{
 "cells": [
  {
   "cell_type": "code",
   "execution_count": 2,
   "id": "d17c00db",
   "metadata": {},
   "outputs": [
    {
     "name": "stdout",
     "output_type": "stream",
     "text": [
      "Accuracy: 0.77\n",
      "\n",
      "Classification Report:\n",
      "               precision    recall  f1-score   support\n",
      "\n",
      "           0       0.80      0.81      0.81       105\n",
      "           1       0.73      0.72      0.72        74\n",
      "\n",
      "    accuracy                           0.77       179\n",
      "   macro avg       0.76      0.76      0.76       179\n",
      "weighted avg       0.77      0.77      0.77       179\n",
      "\n",
      "\n",
      "Sample Passenger: {'Pclass': 3.0, 'Sex': 1.0, 'Age': 28.0, 'SibSp': 1.0, 'Parch': 1.0, 'Fare': 15.2458}\n",
      "Predicted Survival: Did Not Survive\n"
     ]
    }
   ],
   "source": [
    "import pandas as pd\n",
    "from sklearn.model_selection import train_test_split\n",
    "from sklearn.ensemble import RandomForestClassifier\n",
    "from sklearn.metrics import accuracy_score, classification_report\n",
    "from sklearn.naive_bayes import GaussianNB\n",
    "import warnings\n",
    "warnings.filterwarnings('ignore')\n",
    "\n",
    "# Step 1: Prepare features and labels\n",
    "url = \"https://raw.githubusercontent.com/datasciencedojo/datasets/master/titanic.csv\"\n",
    "titanic_data = pd.read_csv(url)\n",
    "titanic_data = titanic_data.dropna(subset=['Survived'])\n",
    "X = titanic_data[['Pclass', 'Sex', 'Age', 'SibSp', 'Parch', 'Fare']].copy()\n",
    "y = titanic_data['Survived'].copy()\n",
    "\n",
    "# Step 2: Encode categorical feature \n",
    "X['Sex'] = X['Sex'].map({'female': 0, 'male': 1})\n",
    "\n",
    "# Step 3: Handle missing age values\n",
    "X['Age'].fillna(X['Age'].median(), inplace=True)\n",
    "\n",
    "# Step 4: Train-Test split\n",
    "X_train, X_test, y_train, y_test = train_test_split(\n",
    "    X, y, test_size=0.2, random_state=42)\n",
    "\n",
    "# Step 5: Initialize and train Gaussian Naive Bayes model\n",
    "nb_model = GaussianNB()\n",
    "nb_model.fit(X_train, y_train)\n",
    "\n",
    "# Step 6: Predict and evaluate\n",
    "y_pred_nb = nb_model.predict(X_test)\n",
    "\n",
    "accuracy_nb = accuracy_score(y_test, y_pred_nb)\n",
    "report_nb = classification_report(y_test, y_pred_nb)\n",
    "\n",
    "print(f\"Accuracy: {accuracy_nb:.2f}\")\n",
    "print(\"\\nClassification Report:\\n\", report_nb)\n",
    "\n",
    "# Step 7: Predict a sample passenger\n",
    "sample_nb = X_test.iloc[0:1]\n",
    "prediction_nb = nb_model.predict(sample_nb)\n",
    "\n",
    "print(f\"\\nSample Passenger: {sample_nb.iloc[0].to_dict()}\")\n",
    "print(f\"Predicted Survival: {'Survived' if prediction_nb[0] == 1 else 'Did Not Survive'}\")\n"
   ]
  }
 ],
 "metadata": {
  "kernelspec": {
   "display_name": "Python 3",
   "language": "python",
   "name": "python3"
  },
  "language_info": {
   "codemirror_mode": {
    "name": "ipython",
    "version": 3
   },
   "file_extension": ".py",
   "mimetype": "text/x-python",
   "name": "python",
   "nbconvert_exporter": "python",
   "pygments_lexer": "ipython3",
   "version": "3.13.2"
  }
 },
 "nbformat": 4,
 "nbformat_minor": 5
}
